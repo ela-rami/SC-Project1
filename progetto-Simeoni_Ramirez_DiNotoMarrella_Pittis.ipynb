{
 "cells": [
  {
   "cell_type": "markdown",
   "metadata": {},
   "source": [
    "<h1>Primo Progetto<h1>"
   ]
  },
  {
   "cell_type": "code",
   "execution_count": 1,
   "metadata": {},
   "outputs": [],
   "source": [
    "# Importo le librerie richieste\n",
    "import pandas as pd\n",
    "from serpapi import GoogleScholarSearch\n",
    "import json"
   ]
  },
  {
   "cell_type": "code",
   "execution_count": 2,
   "metadata": {},
   "outputs": [],
   "source": [
    "GoogleScholarSearch.SERP_API_KEY = \"5ad7613cf550e6717a98fe89a1313fd076c01bf67a9ff629de82129283fd92cf\""
   ]
  },
  {
   "cell_type": "markdown",
   "metadata": {},
   "source": [
    "#### 1 | Utilizzo della libreria Python SerpAPI per scaricare, per ciascuno dei 7 autori elencati nel file nodes.csv"
   ]
  },
  {
   "cell_type": "code",
   "execution_count": 28,
   "metadata": {},
   "outputs": [
    {
     "data": {
      "text/html": [
       "<div>\n",
       "<style scoped>\n",
       "    .dataframe tbody tr th:only-of-type {\n",
       "        vertical-align: middle;\n",
       "    }\n",
       "\n",
       "    .dataframe tbody tr th {\n",
       "        vertical-align: top;\n",
       "    }\n",
       "\n",
       "    .dataframe thead th {\n",
       "        text-align: right;\n",
       "    }\n",
       "</style>\n",
       "<table border=\"1\" class=\"dataframe\">\n",
       "  <thead>\n",
       "    <tr style=\"text-align: right;\">\n",
       "      <th></th>\n",
       "      <th>name</th>\n",
       "      <th>affiliations</th>\n",
       "    </tr>\n",
       "  </thead>\n",
       "  <tbody>\n",
       "    <tr>\n",
       "      <th>0</th>\n",
       "      <td>David La Barbera</td>\n",
       "      <td>Università Degli Studi Di Udine</td>\n",
       "    </tr>\n",
       "    <tr>\n",
       "      <th>1</th>\n",
       "      <td>Michael Soprano</td>\n",
       "      <td>Postdoctoral Research Fellow at the University...</td>\n",
       "    </tr>\n",
       "    <tr>\n",
       "      <th>2</th>\n",
       "      <td>Kevin Roitero</td>\n",
       "      <td>University of Udine</td>\n",
       "    </tr>\n",
       "    <tr>\n",
       "      <th>3</th>\n",
       "      <td>Stefano Mizzaro</td>\n",
       "      <td>Full professor of Computer Science and Informa...</td>\n",
       "    </tr>\n",
       "    <tr>\n",
       "      <th>4</th>\n",
       "      <td>Damiano Spina</td>\n",
       "      <td>School of Computing Technologies</td>\n",
       "    </tr>\n",
       "    <tr>\n",
       "      <th>5</th>\n",
       "      <td>Gianluca Demartini</td>\n",
       "      <td>Associate Professor at the University of Queen...</td>\n",
       "    </tr>\n",
       "    <tr>\n",
       "      <th>6</th>\n",
       "      <td>Eddy Maddalena</td>\n",
       "      <td>Università degli Studi di Udine</td>\n",
       "    </tr>\n",
       "  </tbody>\n",
       "</table>\n",
       "</div>"
      ],
      "text/plain": [
       "                 name                                       affiliations\n",
       "0    David La Barbera                    Università Degli Studi Di Udine\n",
       "1     Michael Soprano  Postdoctoral Research Fellow at the University...\n",
       "2       Kevin Roitero                                University of Udine\n",
       "3     Stefano Mizzaro  Full professor of Computer Science and Informa...\n",
       "4       Damiano Spina                   School of Computing Technologies\n",
       "5  Gianluca Demartini  Associate Professor at the University of Queen...\n",
       "6      Eddy Maddalena                    Università degli Studi di Udine"
      ]
     },
     "metadata": {},
     "output_type": "display_data"
    }
   ],
   "source": [
    "# Importo il file nodes.csv\n",
    "df = pd.read_csv('data/nodes.csv')\n",
    "display(df)"
   ]
  },
  {
   "cell_type": "code",
   "execution_count": 32,
   "metadata": {},
   "outputs": [
    {
     "name": "stdout",
     "output_type": "stream",
     "text": [
      "David La Barbera\n",
      "{'name': 'David La Barbera', 'link': 'https://scholar.google.com/citations?hl=en&user=MvN8wKEAAAAJ', 'serpapi_link': 'https://serpapi.com/search.json?author_id=MvN8wKEAAAAJ&engine=google_scholar_author&hl=en', 'author_id': 'MvN8wKEAAAAJ', 'affiliations': 'Università Degli Studi Di Udine', 'email': 'Verified email at spes.uniud.it', 'cited_by': 138, 'interests': [{'title': 'Computer Science', 'serpapi_link': 'https://serpapi.com/search.json?engine=google_scholar_profiles&hl=en&mauthors=label%3Acomputer_science', 'link': 'https://scholar.google.com/citations?hl=en&view_op=search_authors&mauthors=label:computer_science'}], 'thumbnail': 'https://scholar.googleusercontent.com/citations?view_op=small_photo&user=MvN8wKEAAAAJ&citpid=1'}\n",
      "Michael Soprano\n",
      "{'name': 'Michael Soprano', 'link': 'https://scholar.google.com/citations?hl=en&user=ocK0qRUAAAAJ', 'serpapi_link': 'https://serpapi.com/search.json?author_id=ocK0qRUAAAAJ&engine=google_scholar_author&hl=en', 'author_id': 'ocK0qRUAAAAJ', 'affiliations': 'Postdoctoral Research Fellow at the University of Udine', 'email': 'Verified email at uniud.it', 'cited_by': 208, 'interests': [{'title': 'Computer Science', 'serpapi_link': 'https://serpapi.com/search.json?engine=google_scholar_profiles&hl=en&mauthors=label%3Acomputer_science', 'link': 'https://scholar.google.com/citations?hl=en&view_op=search_authors&mauthors=label:computer_science'}, {'title': 'Crowdsourcing', 'serpapi_link': 'https://serpapi.com/search.json?engine=google_scholar_profiles&hl=en&mauthors=label%3Acrowdsourcing', 'link': 'https://scholar.google.com/citations?hl=en&view_op=search_authors&mauthors=label:crowdsourcing'}], 'thumbnail': 'https://scholar.googleusercontent.com/citations?view_op=small_photo&user=ocK0qRUAAAAJ&citpid=2'}\n",
      "Kevin Roitero\n",
      "{'name': 'Kevin Roitero', 'link': 'https://scholar.google.com/citations?hl=en&user=1xd52jMAAAAJ', 'serpapi_link': 'https://serpapi.com/search.json?author_id=1xd52jMAAAAJ&engine=google_scholar_author&hl=en', 'author_id': '1xd52jMAAAAJ', 'affiliations': 'University of Udine', 'email': 'Verified email at uniud.it', 'cited_by': 688, 'interests': [{'title': 'Artificial Intelligence', 'serpapi_link': 'https://serpapi.com/search.json?engine=google_scholar_profiles&hl=en&mauthors=label%3Aartificial_intelligence', 'link': 'https://scholar.google.com/citations?hl=en&view_op=search_authors&mauthors=label:artificial_intelligence'}, {'title': 'Crowdsourcing and Human Computation', 'serpapi_link': 'https://serpapi.com/search.json?engine=google_scholar_profiles&hl=en&mauthors=label%3Acrowdsourcing_and_human_computation', 'link': 'https://scholar.google.com/citations?hl=en&view_op=search_authors&mauthors=label:crowdsourcing_and_human_computation'}, {'title': 'Information Retrieval', 'serpapi_link': 'https://serpapi.com/search.json?engine=google_scholar_profiles&hl=en&mauthors=label%3Ainformation_retrieval', 'link': 'https://scholar.google.com/citations?hl=en&view_op=search_authors&mauthors=label:information_retrieval'}], 'thumbnail': 'https://scholar.googleusercontent.com/citations?view_op=small_photo&user=1xd52jMAAAAJ&citpid=6'}\n",
      "Stefano Mizzaro\n",
      "{'name': 'Stefano Mizzaro', 'link': 'https://scholar.google.com/citations?hl=en&user=2wvJC6IAAAAJ', 'serpapi_link': 'https://serpapi.com/search.json?author_id=2wvJC6IAAAAJ&engine=google_scholar_author&hl=en', 'author_id': '2wvJC6IAAAAJ', 'affiliations': 'Full professor of Computer Science and Information Technology', 'email': 'Verified email at uniud.it', 'cited_by': 4735, 'interests': [{'title': 'Information retrieval', 'serpapi_link': 'https://serpapi.com/search.json?engine=google_scholar_profiles&hl=en&mauthors=label%3Ainformation_retrieval', 'link': 'https://scholar.google.com/citations?hl=en&view_op=search_authors&mauthors=label:information_retrieval'}, {'title': 'mobile systems', 'serpapi_link': 'https://serpapi.com/search.json?engine=google_scholar_profiles&hl=en&mauthors=label%3Amobile_systems', 'link': 'https://scholar.google.com/citations?hl=en&view_op=search_authors&mauthors=label:mobile_systems'}, {'title': 'scholarly publishing', 'serpapi_link': 'https://serpapi.com/search.json?engine=google_scholar_profiles&hl=en&mauthors=label%3Ascholarly_publishing', 'link': 'https://scholar.google.com/citations?hl=en&view_op=search_authors&mauthors=label:scholarly_publishing'}, {'title': 'crowdsourcing', 'serpapi_link': 'https://serpapi.com/search.json?engine=google_scholar_profiles&hl=en&mauthors=label%3Acrowdsourcing', 'link': 'https://scholar.google.com/citations?hl=en&view_op=search_authors&mauthors=label:crowdsourcing'}, {'title': 'misinformation and fake news detection', 'serpapi_link': 'https://serpapi.com/search.json?engine=google_scholar_profiles&hl=en&mauthors=label%3Amisinformation_and_fake_news_detection', 'link': 'https://scholar.google.com/citations?hl=en&view_op=search_authors&mauthors=label:misinformation_and_fake_news_detection'}], 'thumbnail': 'https://scholar.googleusercontent.com/citations?view_op=small_photo&user=2wvJC6IAAAAJ&citpid=1'}\n",
      "Damiano Spina\n",
      "{'name': 'Damiano Spina', 'link': 'https://scholar.google.com/citations?hl=en&user=sLzYrNYAAAAJ', 'serpapi_link': 'https://serpapi.com/search.json?author_id=sLzYrNYAAAAJ&engine=google_scholar_author&hl=en', 'author_id': 'sLzYrNYAAAAJ', 'affiliations': 'School of Computing Technologies, RMIT University', 'email': 'Verified email at rmit.edu.au', 'cited_by': 2481, 'interests': [{'title': 'Information Retrieval', 'serpapi_link': 'https://serpapi.com/search.json?engine=google_scholar_profiles&hl=en&mauthors=label%3Ainformation_retrieval', 'link': 'https://scholar.google.com/citations?hl=en&view_op=search_authors&mauthors=label:information_retrieval'}, {'title': 'Text Analytics', 'serpapi_link': 'https://serpapi.com/search.json?engine=google_scholar_profiles&hl=en&mauthors=label%3Atext_analytics', 'link': 'https://scholar.google.com/citations?hl=en&view_op=search_authors&mauthors=label:text_analytics'}, {'title': 'Data Science', 'serpapi_link': 'https://serpapi.com/search.json?engine=google_scholar_profiles&hl=en&mauthors=label%3Adata_science', 'link': 'https://scholar.google.com/citations?hl=en&view_op=search_authors&mauthors=label:data_science'}, {'title': 'Evaluation', 'serpapi_link': 'https://serpapi.com/search.json?engine=google_scholar_profiles&hl=en&mauthors=label%3Aevaluation', 'link': 'https://scholar.google.com/citations?hl=en&view_op=search_authors&mauthors=label:evaluation'}, {'title': 'Human-AI Fact-checking', 'serpapi_link': 'https://serpapi.com/search.json?engine=google_scholar_profiles&hl=en&mauthors=label%3Ahuman_ai_fact_checking', 'link': 'https://scholar.google.com/citations?hl=en&view_op=search_authors&mauthors=label:human_ai_fact_checking'}], 'thumbnail': 'https://scholar.googleusercontent.com/citations?view_op=small_photo&user=sLzYrNYAAAAJ&citpid=8'}\n",
      "Gianluca Demartini\n",
      "{'name': 'Gianluca Demartini', 'link': 'https://scholar.google.com/citations?hl=en&user=PCAiILsAAAAJ', 'serpapi_link': 'https://serpapi.com/search.json?author_id=PCAiILsAAAAJ&engine=google_scholar_author&hl=en', 'author_id': 'PCAiILsAAAAJ', 'affiliations': 'Associate Professor at the University of Queensland', 'email': 'Verified email at cs.berkeley.edu', 'cited_by': 5342, 'interests': [{'title': 'Information Retrieval', 'serpapi_link': 'https://serpapi.com/search.json?engine=google_scholar_profiles&hl=en&mauthors=label%3Ainformation_retrieval', 'link': 'https://scholar.google.com/citations?hl=en&view_op=search_authors&mauthors=label:information_retrieval'}, {'title': 'Semantic Web', 'serpapi_link': 'https://serpapi.com/search.json?engine=google_scholar_profiles&hl=en&mauthors=label%3Asemantic_web', 'link': 'https://scholar.google.com/citations?hl=en&view_op=search_authors&mauthors=label:semantic_web'}, {'title': 'Human Computation', 'serpapi_link': 'https://serpapi.com/search.json?engine=google_scholar_profiles&hl=en&mauthors=label%3Ahuman_computation', 'link': 'https://scholar.google.com/citations?hl=en&view_op=search_authors&mauthors=label:human_computation'}, {'title': 'Crowdsourcing', 'serpapi_link': 'https://serpapi.com/search.json?engine=google_scholar_profiles&hl=en&mauthors=label%3Acrowdsourcing', 'link': 'https://scholar.google.com/citations?hl=en&view_op=search_authors&mauthors=label:crowdsourcing'}], 'thumbnail': 'https://scholar.googleusercontent.com/citations?view_op=small_photo&user=PCAiILsAAAAJ&citpid=6'}\n",
      "Eddy Maddalena\n",
      "{'name': 'Maddalena Zippi', 'link': 'https://scholar.google.com/citations?hl=en&user=j8YC3TAAAAAJ', 'serpapi_link': 'https://serpapi.com/search.json?author_id=j8YC3TAAAAAJ&engine=google_scholar_author&hl=en', 'author_id': 'j8YC3TAAAAAJ', 'affiliations': \"Unita' di Gastroenterologia ed Endoscopia Digestiva, ospedale Sandro Pertini, Roma\", 'email': 'Verified email at aslroma2.it', 'cited_by': 1740, 'interests': [{'title': 'endoscopia digestiva diagnostica e opertiva', 'serpapi_link': 'https://serpapi.com/search.json?engine=google_scholar_profiles&hl=en&mauthors=label%3Aendoscopia_digestiva_diagnostica_e_opertiva', 'link': 'https://scholar.google.com/citations?hl=en&view_op=search_authors&mauthors=label:endoscopia_digestiva_diagnostica_e_opertiva'}, {'title': 'endoscopia vie biliari', 'serpapi_link': 'https://serpapi.com/search.json?engine=google_scholar_profiles&hl=en&mauthors=label%3Aendoscopia_vie_biliari', 'link': 'https://scholar.google.com/citations?hl=en&view_op=search_authors&mauthors=label:endoscopia_vie_biliari'}, {'title': 'malattie infiammatorie croniche intestinali', 'serpapi_link': 'https://serpapi.com/search.json?engine=google_scholar_profiles&hl=en&mauthors=label%3Amalattie_infiammatorie_croniche_intestinali', 'link': 'https://scholar.google.com/citations?hl=en&view_op=search_authors&mauthors=label:malattie_infiammatorie_croniche_intestinali'}, {'title': 'malattie panc', 'serpapi_link': 'https://serpapi.com/search.json?engine=google_scholar_profiles&hl=en&mauthors=label%3Amalattie_panc', 'link': 'https://scholar.google.com/citations?hl=en&view_op=search_authors&mauthors=label:malattie_panc'}], 'thumbnail': 'https://scholar.google.com/citations/images/avatar_scholar_56.png'}\n"
     ]
    },
    {
     "ename": "TypeError",
     "evalue": "string indices must be integers, not 'str'",
     "output_type": "error",
     "traceback": [
      "\u001b[1;31m---------------------------------------------------------------------------\u001b[0m",
      "\u001b[1;31mTypeError\u001b[0m                                 Traceback (most recent call last)",
      "\u001b[1;32mc:\\Users\\simeo\\OneDrive\\Desktop\\SocialComputing\\primo_progetto\\Simeoni_Ramirez_DiNotoMarrella_Pittis\\progetto-Simeoni_Ramirez_DiNotoMarrella_Pittis.ipynb Cella 6\u001b[0m line \u001b[0;36m2\n\u001b[0;32m     <a href='vscode-notebook-cell:/c%3A/Users/simeo/OneDrive/Desktop/SocialComputing/primo_progetto/Simeoni_Ramirez_DiNotoMarrella_Pittis/progetto-Simeoni_Ramirez_DiNotoMarrella_Pittis.ipynb#W5sZmlsZQ%3D%3D?line=20'>21</a>\u001b[0m \u001b[39mif\u001b[39;00m author_name \u001b[39m==\u001b[39m \u001b[39m\"\u001b[39m\u001b[39mEddy Maddalena\u001b[39m\u001b[39m\"\u001b[39m :\n\u001b[0;32m     <a href='vscode-notebook-cell:/c%3A/Users/simeo/OneDrive/Desktop/SocialComputing/primo_progetto/Simeoni_Ramirez_DiNotoMarrella_Pittis/progetto-Simeoni_Ramirez_DiNotoMarrella_Pittis.ipynb#W5sZmlsZQ%3D%3D?line=21'>22</a>\u001b[0m     \u001b[39mfor\u001b[39;00m retrieved_result \u001b[39min\u001b[39;00m results:\n\u001b[1;32m---> <a href='vscode-notebook-cell:/c%3A/Users/simeo/OneDrive/Desktop/SocialComputing/primo_progetto/Simeoni_Ramirez_DiNotoMarrella_Pittis/progetto-Simeoni_Ramirez_DiNotoMarrella_Pittis.ipynb#W5sZmlsZQ%3D%3D?line=22'>23</a>\u001b[0m         \u001b[39mif\u001b[39;00m retrieved_result[\u001b[39m'\u001b[39;49m\u001b[39maffiliations\u001b[39;49m\u001b[39m'\u001b[39;49m] \u001b[39m==\u001b[39m affiliations :\n\u001b[0;32m     <a href='vscode-notebook-cell:/c%3A/Users/simeo/OneDrive/Desktop/SocialComputing/primo_progetto/Simeoni_Ramirez_DiNotoMarrella_Pittis/progetto-Simeoni_Ramirez_DiNotoMarrella_Pittis.ipynb#W5sZmlsZQ%3D%3D?line=23'>24</a>\u001b[0m             correct_eddy \u001b[39m=\u001b[39m retrieved_result\n\u001b[0;32m     <a href='vscode-notebook-cell:/c%3A/Users/simeo/OneDrive/Desktop/SocialComputing/primo_progetto/Simeoni_Ramirez_DiNotoMarrella_Pittis/progetto-Simeoni_Ramirez_DiNotoMarrella_Pittis.ipynb#W5sZmlsZQ%3D%3D?line=25'>26</a>\u001b[0m             author_id \u001b[39m=\u001b[39m correct_eddy[\u001b[39m'\u001b[39m\u001b[39mauthor_id\u001b[39m\u001b[39m'\u001b[39m]\n",
      "\u001b[1;31mTypeError\u001b[0m: string indices must be integers, not 'str'"
     ]
    }
   ],
   "source": [
    "\n",
    "# Creo un dataframe per inserire le nuove informazioni sugli autori\n",
    "updated_df = pd.DataFrame(columns=['author_id', 'cited_by', 'interests'])\n",
    "\n",
    "# Itero su ogni autore del dataframe\n",
    "for index, row in df.iterrows():\n",
    "    author_name = row['name']\n",
    "    print(author_name)\n",
    "    \n",
    "    params = {\n",
    "        \"engine\" : \"google_scholar_profiles\",\n",
    "        \"hl\": \"en\",\n",
    "        \"mauthors\": author_name\n",
    "    }\n",
    "    search = GoogleScholarSearch(params)\n",
    "    results = search.get_dict()[\"profiles\"]\n",
    "    print(results)\n",
    "    \n",
    "    correct_eddy = None\n",
    "    affiliations = \"Università degli Studi di Udine, Italy\"\n",
    "    if author_name == \"Eddy Maddalena\" :\n",
    "        for retrieved_result in results:\n",
    "            if retrieved_result['affiliations'] == affiliations :\n",
    "                correct_eddy = retrieved_result\n",
    "                 \n",
    "                author_id = correct_eddy['author_id']\n",
    "                cited_by = correct_eddy['cited_by']\n",
    "                interests = correct_eddy['interests']\n",
    "                interests = correct_eddy[0]['title']\n",
    "                 \n",
    "    else :\n",
    "        # Estraggo le informazioni che mi interessano\n",
    "        author_id = results['author_id']\n",
    "        cited_by = results['cited_by']\n",
    "        interests = results['interests']\n",
    "        interests = interests[0]['title']\n",
    "    \n",
    "    # Aggiorno la specifica riga del dataframe con le informazioni estratte\n",
    "    updated_df.loc[index] = [author_id, cited_by, interests]\n",
    "\n",
    "df_new = pd.merge(df, updated_df, left_index=True, right_index=True)\n",
    "display(df_new)\n",
    "\n"
   ]
  },
  {
   "cell_type": "code",
   "execution_count": 20,
   "metadata": {},
   "outputs": [],
   "source": [
    "# Sovrascrivo il file nodes.csv con le nuove informazioni trovate\n",
    "df_new.to_csv('data/nodes.csv', index=False)"
   ]
  },
  {
   "cell_type": "markdown",
   "metadata": {},
   "source": [
    "#### 2 | Per ogni autore utilizzo il suo ID per accedere al relativo profilo GoogleScholar e scaricare l’elenco dei suoi coautori, sempre via SerpAPI"
   ]
  },
  {
   "cell_type": "code",
   "execution_count": 22,
   "metadata": {},
   "outputs": [],
   "source": [
    "# creo la nuova colonna da inserire nel dataframe\n",
    "co_authors = pd.DataFrame(columns=['co_authors'])\n",
    "\n",
    "# Itero su ogni autore del dataframe\n",
    "for index, row in df_new.iterrows():\n",
    "    author_id = row['author_id']\n",
    "    \n",
    "    params = {\n",
    "        \"engine\" : \"google_scholar_author\",\n",
    "        \"hl\": \"en\",\n",
    "        \"author_id\": author_id\n",
    "    }\n",
    "    \n",
    "search = GoogleScholarSearch(params)\n",
    "results = search.get_dict()\n",
    "\n",
    "    \n"
   ]
  },
  {
   "cell_type": "markdown",
   "metadata": {},
   "source": []
  }
 ],
 "metadata": {
  "kernelspec": {
   "display_name": "Python 3",
   "language": "python",
   "name": "python3"
  },
  "language_info": {
   "codemirror_mode": {
    "name": "ipython",
    "version": 3
   },
   "file_extension": ".py",
   "mimetype": "text/x-python",
   "name": "python",
   "nbconvert_exporter": "python",
   "pygments_lexer": "ipython3",
   "version": "3.11.6"
  }
 },
 "nbformat": 4,
 "nbformat_minor": 2
}
